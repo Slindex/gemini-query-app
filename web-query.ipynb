{
 "cells": [
  {
   "cell_type": "markdown",
   "metadata": {},
   "source": [
    "## Libraries"
   ]
  },
  {
   "cell_type": "code",
   "execution_count": 93,
   "metadata": {},
   "outputs": [],
   "source": [
    "# System Utilities\n",
    "import os\n",
    "from dotenv import load_dotenv\n",
    "from IPython.display import Markdown, display\n",
    "\n",
    "# LLM Utilities\n",
    "from llama_index.core import Document\n",
    "from llama_index.core import Settings\n",
    "from llama_index.core import SimpleDirectoryReader\n",
    "from llama_index.core import StorageContext\n",
    "from llama_index.core import VectorStoreIndex\n",
    "from llama_index.llms.gemini import Gemini\n",
    "\n",
    "# Scraping\n",
    "import re\n",
    "from llama_index.readers.web import SimpleWebPageReader\n",
    "from bs4 import BeautifulSoup\n",
    "\n",
    "# Vector Database\n",
    "import chromadb\n",
    "from llama_index.vector_stores.chroma import ChromaVectorStore\n",
    "from llama_index.embeddings.gemini import GeminiEmbedding"
   ]
  },
  {
   "cell_type": "markdown",
   "metadata": {},
   "source": [
    "## Environment Variables"
   ]
  },
  {
   "cell_type": "code",
   "execution_count": 4,
   "metadata": {},
   "outputs": [],
   "source": [
    "load_dotenv()\n",
    "\n",
    "GEMINI_API_KEY = os.getenv('GEMINI_API_KEY')"
   ]
  },
  {
   "cell_type": "markdown",
   "metadata": {},
   "source": [
    "## Application Logic"
   ]
  },
  {
   "cell_type": "markdown",
   "metadata": {},
   "source": [
    "### Scraping Website Data"
   ]
  },
  {
   "cell_type": "markdown",
   "metadata": {},
   "source": [
    "LlamaIndex can be used to load data from different sources. In this case we can use the `SimpleWebPageReader` to retrieve data from a webpage. For more information please visit the [LlamaIndex documentation](https://docs.llamaindex.ai/en/stable/understanding/loading/loading/)."
   ]
  },
  {
   "cell_type": "code",
   "execution_count": 84,
   "metadata": {},
   "outputs": [],
   "source": [
    "web_documents = SimpleWebPageReader().load_data(\n",
    "    urls=['https://www.scotiabank.com/ca/en/personal/credit-cards/sceneplus.html']\n",
    ")\n",
    "\n",
    "html_content = web_documents[0].text"
   ]
  },
  {
   "cell_type": "markdown",
   "metadata": {},
   "source": [
    "Now that we have the html content we need to parse the data, retrieving the relevant information we need."
   ]
  },
  {
   "cell_type": "code",
   "execution_count": 85,
   "metadata": {},
   "outputs": [],
   "source": [
    "# The soup is the html content structured in HTML format\n",
    "soup = BeautifulSoup(markup=html_content, features='html.parser')\n",
    "\n",
    "# The information we're looking for is structured in cards, so we need to find them first\n",
    "card_content_div = soup.find_all('div', class_='card-content')\n",
    "\n",
    "credit_cards = []\n",
    "information = []\n",
    "\n",
    "# Inside the cards, relevant information is located inside <span> and <p> tags.\n",
    "for card in card_content_div:\n",
    "    credit_cards.append(card.find('span', class_='subtitle-1').text)\n",
    "    information.append(card.find_all('p'))"
   ]
  },
  {
   "cell_type": "code",
   "execution_count": 86,
   "metadata": {},
   "outputs": [
    {
     "data": {
      "text/plain": [
       "['Scotiabank® Scene+™ Visa* Card ',\n",
       " 'Scotiabank Passport® Visa Infinite* Card ',\n",
       " 'Scotiabank Gold American Express® Card  ',\n",
       " 'Scotiabank American Express® Card ',\n",
       " 'Scotiabank Platinum American Express® Card ',\n",
       " 'Scotiabank® Scene+™ Visa* Card (for students) ']"
      ]
     },
     "execution_count": 86,
     "metadata": {},
     "output_type": "execute_result"
    }
   ],
   "source": [
    "credit_cards"
   ]
  },
  {
   "cell_type": "markdown",
   "metadata": {},
   "source": [
    "This cycle will unify the content of all `<p>` tags inside a String for each card, and then append it to a list"
   ]
  },
  {
   "cell_type": "code",
   "execution_count": 88,
   "metadata": {},
   "outputs": [],
   "source": [
    "information_text = []\n",
    "\n",
    "for list in information:\n",
    "    text = ''\n",
    "    for tag in list:\n",
    "        text += tag.text + '\\n'\n",
    "    information_text.append(text)\n",
    "\n",
    "# This code will remove the '\\xa0' elements from the text\n",
    "information_text = [s.replace('\\xa0', ' ') for s in information_text]"
   ]
  },
  {
   "cell_type": "code",
   "execution_count": 89,
   "metadata": {},
   "outputs": [
    {
     "data": {
      "text/plain": [
       "['Earn up to 7,500 bonus Scene+ points within your first 3 months.2\\n \\nEarn 2 Scene+ points4 on every $1 you spend at Sobeys, Safeway, Foodland & Participating Co-ops, FreshCo and more.\\n \\nEarn 2 Scene+ points4 on every $1 you spend at Home Hardware.\\n \\nAnnual fee: $0\\nInterest rates: 20.99% purchases / 22.99% cash advances\\n',\n",
       " 'Earn up to $1,300+ in value in the first 12 months, including up to 40,000 bonus Scene+ points and first year annual fee waived.‡\\n \\nEarn 3 Scene+ points1 on every $1 you spend at Sobeys, Safeway, IGA, Foodland & Participating Co-ops and more.\\n \\nAnnual fee: $150\\nInterest rates: 20.99% purchases / 22.99% cash advances\\n',\n",
       " 'Earn up to $650* in value in the first 12 months, including up to 40,000 bonus Scene+ points.1\\n \\nEarn 6 Scene+ points2 on every $1 CAD you spend in Canada at Sobeys, Safeway, FreshCo, Foodland and more.\\n \\nAnnual fee: $120\\nInterest rates: 20.99% purchases / 22.99% cash advances\\n',\n",
       " 'Earn up to 7,500 bonus Scene+ points within your first 3 months (that’s up to $75 towards travel).4\\n \\nEarn 3 Scene+ points1 on every $1 you spend at Sobeys, Safeway, FreshCo, Foodland and more.\\n \\nAnnual fee: $0\\nInterest rates: 19.99% purchases / 22.99% cash advances\\n',\n",
       " 'Earn up to $2,100* in value in the first 14 months, including up to 60,0004 bonus Scene+ points.\\n \\nEarn 2X the Scene+ points1 for every $1 you spend.\\n \\nAnnual fee: $399\\nInterest rates: 9.99% purchases / 9.99% cash advances\\n\\n',\n",
       " 'Earn up to 7,500 bonus Scene+ points within your first 3 months.2\\n \\nEarn 2 Scene+ points4 on every $1 you spend at Sobeys, Safeway, Foodland & Participating Co-ops, FreshCo and more.\\n \\nEarn 2 Scene+ points4 on every $1 you spend at Home Hardware.\\n \\nAnnual fee: $0\\nInterest rates: 20.99% purchases / 22.99% cash advances\\n']"
      ]
     },
     "execution_count": 89,
     "metadata": {},
     "output_type": "execute_result"
    }
   ],
   "source": [
    "information_text"
   ]
  },
  {
   "cell_type": "markdown",
   "metadata": {},
   "source": [
    "The following code will combine and add the information of both lists to a string, instantiating a Document object with the `Document` class."
   ]
  },
  {
   "cell_type": "code",
   "execution_count": 91,
   "metadata": {},
   "outputs": [
    {
     "data": {
      "text/plain": [
       "[Document(id_='c416a861-4f0d-4741-a21a-642b15413bd4', embedding=None, metadata={}, excluded_embed_metadata_keys=[], excluded_llm_metadata_keys=[], relationships={}, text='Scotiabank® Scene+™ Visa* Card Earn up to 7,500 bonus Scene+ points within your first 3 months.2\\n \\nEarn 2 Scene+ points4 on every $1 you spend at Sobeys, Safeway, Foodland & Participating Co-ops, FreshCo and more.\\n \\nEarn 2 Scene+ points4 on every $1 you spend at Home Hardware.\\n \\nAnnual fee: $0\\nInterest rates: 20.99% purchases / 22.99% cash advances\\nScotiabank Passport® Visa Infinite* Card Earn up to $1,300+ in value in the first 12 months, including up to 40,000 bonus Scene+ points and first year annual fee waived.‡\\n \\nEarn 3 Scene+ points1 on every $1 you spend at Sobeys, Safeway, IGA, Foodland & Participating Co-ops and more.\\n \\nAnnual fee: $150\\nInterest rates: 20.99% purchases / 22.99% cash advances\\nScotiabank Gold American Express® Card  Earn up to $650* in value in the first 12 months, including up to 40,000 bonus Scene+ points.1\\n \\nEarn 6 Scene+ points2 on every $1 CAD you spend in Canada at Sobeys, Safeway, FreshCo, Foodland and more.\\n \\nAnnual fee: $120\\nInterest rates: 20.99% purchases / 22.99% cash advances\\nScotiabank American Express® Card Earn up to 7,500 bonus Scene+ points within your first 3 months (that’s up to $75 towards travel).4\\n \\nEarn 3 Scene+ points1 on every $1 you spend at Sobeys, Safeway, FreshCo, Foodland and more.\\n \\nAnnual fee: $0\\nInterest rates: 19.99% purchases / 22.99% cash advances\\nScotiabank Platinum American Express® Card Earn up to $2,100* in value in the first 14 months, including up to 60,0004 bonus Scene+ points.\\n \\nEarn 2X the Scene+ points1 for every $1 you spend.\\n \\nAnnual fee: $399\\nInterest rates: 9.99% purchases / 9.99% cash advances\\n\\nScotiabank® Scene+™ Visa* Card (for students) Earn up to 7,500 bonus Scene+ points within your first 3 months.2\\n \\nEarn 2 Scene+ points4 on every $1 you spend at Sobeys, Safeway, Foodland & Participating Co-ops, FreshCo and more.\\n \\nEarn 2 Scene+ points4 on every $1 you spend at Home Hardware.\\n \\nAnnual fee: $0\\nInterest rates: 20.99% purchases / 22.99% cash advances\\n', start_char_idx=None, end_char_idx=None, text_template='{metadata_str}\\n\\n{content}', metadata_template='{key}: {value}', metadata_seperator='\\n')]"
      ]
     },
     "execution_count": 91,
     "metadata": {},
     "output_type": "execute_result"
    }
   ],
   "source": [
    "text_content = ''\n",
    "\n",
    "for i in range(len(credit_cards)):\n",
    "    text_content += credit_cards[i] + information_text[i]\n",
    "\n",
    "documents = [Document(text=text_content)]\n",
    "documents"
   ]
  },
  {
   "cell_type": "markdown",
   "metadata": {},
   "source": [
    "### Initializing Models"
   ]
  },
  {
   "cell_type": "markdown",
   "metadata": {},
   "source": [
    "Embeddings Model (**Embedding-001**)"
   ]
  },
  {
   "cell_type": "code",
   "execution_count": 95,
   "metadata": {},
   "outputs": [],
   "source": [
    "gemini_embedding_model = GeminiEmbedding(api_key=GEMINI_API_KEY, model_name='models/embedding-001')"
   ]
  },
  {
   "cell_type": "markdown",
   "metadata": {},
   "source": [
    "LLM Model (**Gemini Pro**)"
   ]
  },
  {
   "cell_type": "code",
   "execution_count": 96,
   "metadata": {},
   "outputs": [],
   "source": [
    "llm = Gemini(api_key=GEMINI_API_KEY, model_name='models/gemini-pro')"
   ]
  },
  {
   "cell_type": "markdown",
   "metadata": {},
   "source": [
    "### Store Data with Chroma"
   ]
  },
  {
   "cell_type": "code",
   "execution_count": null,
   "metadata": {},
   "outputs": [],
   "source": []
  }
 ],
 "metadata": {
  "kernelspec": {
   "display_name": ".venv",
   "language": "python",
   "name": "python3"
  },
  "language_info": {
   "codemirror_mode": {
    "name": "ipython",
    "version": 3
   },
   "file_extension": ".py",
   "mimetype": "text/x-python",
   "name": "python",
   "nbconvert_exporter": "python",
   "pygments_lexer": "ipython3",
   "version": "3.12.3"
  }
 },
 "nbformat": 4,
 "nbformat_minor": 2
}
