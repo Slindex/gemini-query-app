{
 "cells": [
  {
   "cell_type": "markdown",
   "metadata": {},
   "source": [
    "## Libraries"
   ]
  },
  {
   "cell_type": "code",
   "execution_count": 1,
   "metadata": {},
   "outputs": [
    {
     "name": "stderr",
     "output_type": "stream",
     "text": [
      "e:\\david\\Documents\\GitHub\\gemini-query-app\\.venv\\Lib\\site-packages\\tqdm\\auto.py:21: TqdmWarning: IProgress not found. Please update jupyter and ipywidgets. See https://ipywidgets.readthedocs.io/en/stable/user_install.html\n",
      "  from .autonotebook import tqdm as notebook_tqdm\n"
     ]
    }
   ],
   "source": [
    "# System Utilities\n",
    "import os\n",
    "from dotenv import load_dotenv\n",
    "from IPython.display import Markdown, display\n",
    "\n",
    "# LLM Utilities\n",
    "from llama_index.core import Document\n",
    "from llama_index.core import PromptTemplate\n",
    "from llama_index.core import Settings\n",
    "from llama_index.core import ChatPromptTemplate\n",
    "from llama_index.core import StorageContext\n",
    "from llama_index.core import VectorStoreIndex\n",
    "from llama_index.core.prompts.prompt_type import PromptType\n",
    "from llama_index.llms.gemini import Gemini\n",
    "\n",
    "# Scraping\n",
    "import re\n",
    "from llama_index.readers.web import SimpleWebPageReader\n",
    "from bs4 import BeautifulSoup\n",
    "\n",
    "# Vector Database\n",
    "import chromadb\n",
    "from llama_index.vector_stores.chroma import ChromaVectorStore\n",
    "from llama_index.embeddings.gemini import GeminiEmbedding"
   ]
  },
  {
   "cell_type": "markdown",
   "metadata": {},
   "source": [
    "## Environment Variables"
   ]
  },
  {
   "cell_type": "code",
   "execution_count": 2,
   "metadata": {},
   "outputs": [],
   "source": [
    "load_dotenv()\n",
    "\n",
    "GEMINI_API_KEY = os.getenv('GEMINI_API_KEY')"
   ]
  },
  {
   "cell_type": "markdown",
   "metadata": {},
   "source": [
    "## Retriever"
   ]
  },
  {
   "cell_type": "markdown",
   "metadata": {},
   "source": [
    "### Scraping Website Data"
   ]
  },
  {
   "cell_type": "markdown",
   "metadata": {},
   "source": [
    "LlamaIndex can be used to load data from different sources. In this case we can use the `SimpleWebPageReader` to retrieve data from a webpage. For more information please visit the [LlamaIndex documentation](https://docs.llamaindex.ai/en/stable/understanding/loading/loading/)."
   ]
  },
  {
   "cell_type": "code",
   "execution_count": 3,
   "metadata": {},
   "outputs": [],
   "source": [
    "web_documents = SimpleWebPageReader().load_data(\n",
    "    urls=['https://www.scotiabank.com/ca/en/personal/credit-cards/compare-cards.html']\n",
    ")\n",
    "\n",
    "html_content = web_documents[0].text"
   ]
  },
  {
   "cell_type": "markdown",
   "metadata": {},
   "source": [
    "Now that we have the html content we need to parse the data, retrieving the relevant information we need."
   ]
  },
  {
   "cell_type": "code",
   "execution_count": 4,
   "metadata": {},
   "outputs": [],
   "source": [
    "# The soup is the html content structured in HTML format\n",
    "soup = BeautifulSoup(markup=html_content, features='html.parser')\n",
    "\n",
    "# The information we're looking for is structured in cards, so we need to find them first\n",
    "card_content_div = soup.find_all('div', class_='card-content')\n",
    "\n",
    "credit_cards = []\n",
    "information = []\n",
    "\n",
    "# Inside the cards, relevant information is located inside <span> and <p> tags.\n",
    "for card in card_content_div:\n",
    "    credit_cards.append(card.find('span', class_='subtitle-1').text)\n",
    "    information.append(card.find_all('p'))"
   ]
  },
  {
   "cell_type": "code",
   "execution_count": 5,
   "metadata": {},
   "outputs": [
    {
     "data": {
      "text/plain": [
       "['Scotiabank Passport® Visa Infinite* Card ',\n",
       " 'Scotia Momentum® Visa Infinite* Card ',\n",
       " 'Scotiabank Gold American Express® Card  ',\n",
       " 'Scotiabank® Scene+™ Visa* Card ',\n",
       " 'Scotia Momentum® Visa* Card ',\n",
       " 'Scotia Momentum® No-Fee Visa* Card ',\n",
       " 'Scotiabank American Express® Card ',\n",
       " 'Scotiabank Platinum American Express® Card ',\n",
       " 'Scotia Momentum® Mastercard®* credit card ',\n",
       " 'Scotiabank® U.S. Dollar Visa* Card ',\n",
       " 'Scotiabank Value® Visa* Card ',\n",
       " 'Scotiabank® Scene+™ Visa* Card (for students) ',\n",
       " 'Scotiabank Value® Visa* Card (for students) ',\n",
       " 'Scotia Momentum® Visa* Card (for students) ',\n",
       " ' Scotia Momentum® No-Fee Visa* Card (for students) ',\n",
       " 'Scotiabank American Express® Card (for students) ']"
      ]
     },
     "execution_count": 5,
     "metadata": {},
     "output_type": "execute_result"
    }
   ],
   "source": [
    "credit_cards"
   ]
  },
  {
   "cell_type": "markdown",
   "metadata": {},
   "source": [
    "This cycle will unify the content of all `<p>` tags inside a String for each card, and then append it to a list"
   ]
  },
  {
   "cell_type": "code",
   "execution_count": 6,
   "metadata": {},
   "outputs": [],
   "source": [
    "information_text = []\n",
    "\n",
    "for list in information:\n",
    "    text = ''\n",
    "    for tag in list:\n",
    "        text += tag.text + '\\n'\n",
    "    information_text.append(text)\n",
    "\n",
    "# This code will remove the '\\xa0' elements from the text\n",
    "information_text = [s.replace('\\xa0', ' ') for s in information_text]"
   ]
  },
  {
   "cell_type": "code",
   "execution_count": 7,
   "metadata": {},
   "outputs": [
    {
     "data": {
      "text/plain": [
       "['Earn up to $1,300+ in value in the first 12 months, including up to 40,000 bonus Scene+ points and first year annual fee waived.‡\\n \\nEarn 3 Scene+ points1 on every $1 you spend at Sobeys, Safeway, IGA, Foodland & Participating Co-ops and more.\\n \\nAnnual fee: $150\\nInterest rates: 20.99% purchases / 22.99% cash advances\\n',\n",
       " 'Earn 10% cash back on all purchases for the first 3 months (up to $2,000 in total purchases).1 Plus, no annual fee in the first year, including on additional cards.1\\n \\nAnnual fee: $120\\nInterest rates: 20.99% purchases / 22.99% cash advances\\n',\n",
       " 'Earn up to $650* in value in the first 12 months, including up to 40,000 bonus Scene+ points.1\\n \\nEarn 6 Scene+ points2 on every $1 CAD you spend in Canada at Sobeys, Safeway, FreshCo, Foodland and more.\\n \\nAnnual fee: $120\\nInterest rates: 20.99% purchases / 22.99% cash advances\\n',\n",
       " 'Earn up to 7,500 bonus Scene+ points within your first 3 months.2\\n \\nEarn 2 Scene+ points4 on every $1 you spend at Sobeys, Safeway, Foodland & Participating Co-ops, FreshCo and more.\\n \\nEarn 2 Scene+ points4 on every $1 you spend at Home Hardware.\\n \\nAnnual fee: $0\\nInterest rates: 20.99% purchases / 22.99% cash advances\\n',\n",
       " 'Get a 2.99% introductory interest rate on balance transfers for the first 6 months (22.99% after that; annual fee $39).2\\n \\nAnnual fee: $39\\nInterest rates: 19.99% purchases / 22.99% cash advances\\n\\n',\n",
       " 'Earn 5% cash back on all purchases for the first 3 months (up to $2,000 in total purchases).2 Plus, get a 0% introductory interest rate on balance transfers for the first 6 months (22.99% after that; annual fee $0).2\\n \\nAnnual fee: $0\\nInterest rates: 19.99% purchases / 22.99% cash advances\\n',\n",
       " 'Earn up to 7,500 bonus Scene+ points within your first 3 months (that’s up to $75 towards travel).4\\n \\nEarn 3 Scene+ points1 on every $1 you spend at Sobeys, Safeway, FreshCo, Foodland and more.\\n \\nAnnual fee: $0\\nInterest rates: 19.99% purchases / 22.99% cash advances\\n',\n",
       " 'Earn up to $2,100* in value in the first 14 months, including up to 60,0004 bonus Scene+ points.\\n \\nEarn 2X the Scene+ points1 for every $1 you spend.\\n \\nAnnual fee: $399\\nInterest rates: 9.99% purchases / 9.99% cash advances\\n\\n',\n",
       " 'Earn 1% cash back on all eligible gas station, grocery store, drug store purchases and recurring payments.1\\n \\n7.99% introductory interest rate on purchases for the first 6 months (20.99% after that;  annual fee $0).2\\n \\nAnnual fee: $0\\nInterest rates: 20.99% purchases / 22.99% cash advances\\n',\n",
       " 'Worry-free U.S. dollar purchases with no currency conversion fees.\\n \\nAnnual fee: $35 \\nInterest rates: 19.99% purchases / 22.99% cash advances\\n\\n',\n",
       " '\\n0% introductory interest rate on balance transfers for the first 10 months (12.99% and then after that 13.99% starting August 1, 2024; annual fee $29).2 Plus no annual fee in the first year.2 \\n \\nSave up to hundreds of dollars a year on interest.\\n \\nAnnual fee: $29\\nInterest rates: 12.99% purchases / 12.99% cash advances\\n',\n",
       " 'Earn up to 7,500 bonus Scene+ points within your first 3 months.2\\n \\nEarn 2 Scene+ points4 on every $1 you spend at Sobeys, Safeway, Foodland & Participating Co-ops, FreshCo and more.\\n \\nEarn 2 Scene+ points4 on every $1 you spend at Home Hardware.\\n \\nAnnual fee: $0\\nInterest rates: 20.99% purchases / 22.99% cash advances\\n',\n",
       " 'Save up to hundreds of dollars a year on interest.1\\n \\n0% introductory interest rate on balance transfers for the first 10 months (12.99% and then after that 13.99% starting August 1, 2024; annual fee $29).2 Plus no annual fee in the first year.2\\n \\nAnnual fee: $29\\nInterest rates: 12.99% purchases / 12.99% cash advances\\n',\n",
       " 'Get a 2.99% introductory interest rate on balance transfers for the first 6 months (22.99% after that; annual fee $39).2\\n \\nAnnual fee: $39\\nInterest rates: 19.99% purchases / 22.99% cash advances\\n\\n',\n",
       " 'Earn 5% cash back on all purchases for the first 3 months (up to $2,000 in total purchases).2 Plus, get a 0% introductory interest rate on balance transfers for the first 6 months (22.99% after that; annual fee $0).2\\n \\nAnnual fee: $0\\nInterest rates: 19.99% purchases / 22.99% cash advances\\n',\n",
       " 'Earn up to 7,500 bonus Scene+ points within your first 3 months (that’s up to $75 towards travel).4\\u202f\\n \\nEarn 3 Scene+ points1 on every $1 you spend at Sobeys, Safeway, FreshCo, Foodland and more.\\n\\n \\nAnnual fee: $0\\nInterest rates: 19.99% purchases / 22.99% cash advances\\n']"
      ]
     },
     "execution_count": 7,
     "metadata": {},
     "output_type": "execute_result"
    }
   ],
   "source": [
    "information_text"
   ]
  },
  {
   "cell_type": "markdown",
   "metadata": {},
   "source": [
    "The following code will combine and add the information of both lists to a string, instantiating a Document object with the `Document` class."
   ]
  },
  {
   "cell_type": "code",
   "execution_count": 8,
   "metadata": {},
   "outputs": [
    {
     "data": {
      "text/plain": [
       "[Document(id_='ef00233a-38fe-4642-a187-e92b034cf57c', embedding=None, metadata={}, excluded_embed_metadata_keys=[], excluded_llm_metadata_keys=[], relationships={}, text='Scotiabank Passport® Visa Infinite* Card Earn up to $1,300+ in value in the first 12 months, including up to 40,000 bonus Scene+ points and first year annual fee waived.‡\\n \\nEarn 3 Scene+ points1 on every $1 you spend at Sobeys, Safeway, IGA, Foodland & Participating Co-ops and more.\\n \\nAnnual fee: $150\\nInterest rates: 20.99% purchases / 22.99% cash advances\\nScotia Momentum® Visa Infinite* Card Earn 10% cash back on all purchases for the first 3 months (up to $2,000 in total purchases).1 Plus, no annual fee in the first year, including on additional cards.1\\n \\nAnnual fee: $120\\nInterest rates: 20.99% purchases / 22.99% cash advances\\nScotiabank Gold American Express® Card  Earn up to $650* in value in the first 12 months, including up to 40,000 bonus Scene+ points.1\\n \\nEarn 6 Scene+ points2 on every $1 CAD you spend in Canada at Sobeys, Safeway, FreshCo, Foodland and more.\\n \\nAnnual fee: $120\\nInterest rates: 20.99% purchases / 22.99% cash advances\\nScotiabank® Scene+™ Visa* Card Earn up to 7,500 bonus Scene+ points within your first 3 months.2\\n \\nEarn 2 Scene+ points4 on every $1 you spend at Sobeys, Safeway, Foodland & Participating Co-ops, FreshCo and more.\\n \\nEarn 2 Scene+ points4 on every $1 you spend at Home Hardware.\\n \\nAnnual fee: $0\\nInterest rates: 20.99% purchases / 22.99% cash advances\\nScotia Momentum® Visa* Card Get a 2.99% introductory interest rate on balance transfers for the first 6 months (22.99% after that; annual fee $39).2\\n \\nAnnual fee: $39\\nInterest rates: 19.99% purchases / 22.99% cash advances\\n\\nScotia Momentum® No-Fee Visa* Card Earn 5% cash back on all purchases for the first 3 months (up to $2,000 in total purchases).2 Plus, get a 0% introductory interest rate on balance transfers for the first 6 months (22.99% after that; annual fee $0).2\\n \\nAnnual fee: $0\\nInterest rates: 19.99% purchases / 22.99% cash advances\\nScotiabank American Express® Card Earn up to 7,500 bonus Scene+ points within your first 3 months (that’s up to $75 towards travel).4\\n \\nEarn 3 Scene+ points1 on every $1 you spend at Sobeys, Safeway, FreshCo, Foodland and more.\\n \\nAnnual fee: $0\\nInterest rates: 19.99% purchases / 22.99% cash advances\\nScotiabank Platinum American Express® Card Earn up to $2,100* in value in the first 14 months, including up to 60,0004 bonus Scene+ points.\\n \\nEarn 2X the Scene+ points1 for every $1 you spend.\\n \\nAnnual fee: $399\\nInterest rates: 9.99% purchases / 9.99% cash advances\\n\\nScotia Momentum® Mastercard®* credit card Earn 1% cash back on all eligible gas station, grocery store, drug store purchases and recurring payments.1\\n \\n7.99% introductory interest rate on purchases for the first 6 months (20.99% after that;  annual fee $0).2\\n \\nAnnual fee: $0\\nInterest rates: 20.99% purchases / 22.99% cash advances\\nScotiabank® U.S. Dollar Visa* Card Worry-free U.S. dollar purchases with no currency conversion fees.\\n \\nAnnual fee: $35 \\nInterest rates: 19.99% purchases / 22.99% cash advances\\n\\nScotiabank Value® Visa* Card \\n0% introductory interest rate on balance transfers for the first 10 months (12.99% and then after that 13.99% starting August 1, 2024; annual fee $29).2 Plus no annual fee in the first year.2 \\n \\nSave up to hundreds of dollars a year on interest.\\n \\nAnnual fee: $29\\nInterest rates: 12.99% purchases / 12.99% cash advances\\nScotiabank® Scene+™ Visa* Card (for students) Earn up to 7,500 bonus Scene+ points within your first 3 months.2\\n \\nEarn 2 Scene+ points4 on every $1 you spend at Sobeys, Safeway, Foodland & Participating Co-ops, FreshCo and more.\\n \\nEarn 2 Scene+ points4 on every $1 you spend at Home Hardware.\\n \\nAnnual fee: $0\\nInterest rates: 20.99% purchases / 22.99% cash advances\\nScotiabank Value® Visa* Card (for students) Save up to hundreds of dollars a year on interest.1\\n \\n0% introductory interest rate on balance transfers for the first 10 months (12.99% and then after that 13.99% starting August 1, 2024; annual fee $29).2 Plus no annual fee in the first year.2\\n \\nAnnual fee: $29\\nInterest rates: 12.99% purchases / 12.99% cash advances\\nScotia Momentum® Visa* Card (for students) Get a 2.99% introductory interest rate on balance transfers for the first 6 months (22.99% after that; annual fee $39).2\\n \\nAnnual fee: $39\\nInterest rates: 19.99% purchases / 22.99% cash advances\\n\\n Scotia Momentum® No-Fee Visa* Card (for students) Earn 5% cash back on all purchases for the first 3 months (up to $2,000 in total purchases).2 Plus, get a 0% introductory interest rate on balance transfers for the first 6 months (22.99% after that; annual fee $0).2\\n \\nAnnual fee: $0\\nInterest rates: 19.99% purchases / 22.99% cash advances\\nScotiabank American Express® Card (for students) Earn up to 7,500 bonus Scene+ points within your first 3 months (that’s up to $75 towards travel).4\\u202f\\n \\nEarn 3 Scene+ points1 on every $1 you spend at Sobeys, Safeway, FreshCo, Foodland and more.\\n\\n \\nAnnual fee: $0\\nInterest rates: 19.99% purchases / 22.99% cash advances\\n', start_char_idx=None, end_char_idx=None, text_template='{metadata_str}\\n\\n{content}', metadata_template='{key}: {value}', metadata_seperator='\\n')]"
      ]
     },
     "execution_count": 8,
     "metadata": {},
     "output_type": "execute_result"
    }
   ],
   "source": [
    "text_content = ''\n",
    "\n",
    "for i in range(len(credit_cards)):\n",
    "    text_content += credit_cards[i] + information_text[i]\n",
    "\n",
    "documents = [Document(text=text_content)]\n",
    "documents"
   ]
  },
  {
   "cell_type": "markdown",
   "metadata": {},
   "source": [
    "### Initializing Models"
   ]
  },
  {
   "cell_type": "markdown",
   "metadata": {},
   "source": [
    "Embeddings Model (**Embedding-001**)"
   ]
  },
  {
   "cell_type": "code",
   "execution_count": 9,
   "metadata": {},
   "outputs": [],
   "source": [
    "gemini_embedding_model = GeminiEmbedding(api_key=GEMINI_API_KEY, model_name='models/embedding-001')"
   ]
  },
  {
   "cell_type": "markdown",
   "metadata": {},
   "source": [
    "LLM Model (**Gemini Pro**)"
   ]
  },
  {
   "cell_type": "code",
   "execution_count": 10,
   "metadata": {},
   "outputs": [],
   "source": [
    "llm = Gemini(api_key=GEMINI_API_KEY, model_name='models/gemini-pro')"
   ]
  },
  {
   "cell_type": "markdown",
   "metadata": {},
   "source": [
    "### Store Data with Chroma"
   ]
  },
  {
   "cell_type": "code",
   "execution_count": 11,
   "metadata": {},
   "outputs": [],
   "source": [
    "client = chromadb.PersistentClient(path='./chroma_db')\n",
    "chroma_collection = client.get_or_create_collection('credit_cards')\n",
    "\n",
    "vector_store = ChromaVectorStore(chroma_collection=chroma_collection)\n",
    "\n",
    "storage_context = StorageContext.from_defaults(vector_store=vector_store)\n",
    "\n",
    "Settings.llm = llm\n",
    "Settings.embed_model = gemini_embedding_model\n",
    "\n",
    "index = VectorStoreIndex.from_documents(\n",
    "    documents, storage_context=storage_context\n",
    ")"
   ]
  },
  {
   "cell_type": "markdown",
   "metadata": {},
   "source": [
    "### Retriever Creation"
   ]
  },
  {
   "cell_type": "code",
   "execution_count": 12,
   "metadata": {},
   "outputs": [],
   "source": [
    "load_client = chromadb.PersistentClient(path='./chroma_db')\n",
    "\n",
    "chroma_collection = load_client.get_collection('credit_cards')\n",
    "\n",
    "vector_store = ChromaVectorStore(chroma_collection=chroma_collection)\n",
    "\n",
    "index = VectorStoreIndex.from_vector_store(vector_store)"
   ]
  },
  {
   "cell_type": "code",
   "execution_count": 45,
   "metadata": {},
   "outputs": [
    {
     "name": "stdout",
     "output_type": "stream",
     "text": [
      "Earn up to $1,300+ in value in the first 12 months, including up to 40,000 bonus Scene+ points and first year annual fee waived.‡\n",
      "Earn 3 Scene+ points1 on every $1 you spend at Sobeys, Safeway, IGA, Foodland & Participating Co-ops and more.\n"
     ]
    }
   ],
   "source": [
    "test_query_engine = index.as_query_engine()\n",
    "response = test_query_engine.query('What are the benefits of the Passport Visa Infinite card?')\n",
    "print(response)"
   ]
  },
  {
   "cell_type": "markdown",
   "metadata": {},
   "source": [
    "## Generator"
   ]
  },
  {
   "cell_type": "markdown",
   "metadata": {},
   "source": [
    "### Prompt Templates"
   ]
  },
  {
   "cell_type": "code",
   "execution_count": 37,
   "metadata": {},
   "outputs": [],
   "source": [
    "chat_engine = index.as_chat_engine(\n",
    "    chat_mode='context',\n",
    "    system_prompt=(\n",
    "        \"You are a chatbot, able to have normal interactions, as well as\"\n",
    "        \" provide information about credit cards using only\"\n",
    "        \" the context information below.\\n\"\n",
    "        \"---------------------\\n\"\n",
    "        \"{context_str}\\n\"\n",
    "        \"---------------------\\n\"\n",
    "        \"Given the context information and not prior knowledge, \"\n",
    "        \"answer the question.\\n\"\n",
    "        \"Question: {query_str}\\n\"\n",
    "        \"Answer: \"\n",
    "    )\n",
    ")"
   ]
  },
  {
   "cell_type": "code",
   "execution_count": 42,
   "metadata": {},
   "outputs": [
    {
     "name": "stdout",
     "output_type": "stream",
     "text": [
      "Hello! How can I help you today? I can provide information about credit cards, or we can just chat.\n"
     ]
    }
   ],
   "source": [
    "response = chat_engine.chat('hello!')\n",
    "print(response)"
   ]
  },
  {
   "cell_type": "code",
   "execution_count": 43,
   "metadata": {},
   "outputs": [
    {
     "name": "stdout",
     "output_type": "stream",
     "text": [
      "The Scotia Momentum® Visa Infinite* Card has the best benefits with an annual fee under $140. It offers 10% cash back on all purchases for the first 3 months (up to $2,000 in total purchases), plus no annual fee in the first year, including on additional cards. After the first year, the annual fee is $120. Other benefits include:\n",
      "\n",
      "* Earn 2% cash back on all purchases after the first 3 months\n",
      "* No foreign transaction fees\n",
      "* Travel insurance\n",
      "* Purchase protection\n",
      "* Extended warranty protection\n"
     ]
    }
   ],
   "source": [
    "response = chat_engine.chat('Which credit card has the best benefits with an annual fee under 140 dollars?')\n",
    "print(response)"
   ]
  },
  {
   "cell_type": "code",
   "execution_count": 35,
   "metadata": {},
   "outputs": [
    {
     "name": "stdout",
     "output_type": "stream",
     "text": [
      "Scotiabank Platinum American Express® Card has the lowest interest rates at 9.99% for both purchases and cash advances.\n"
     ]
    }
   ],
   "source": [
    "response = chat_engine.chat('Which credit card has the lowest interest rates?')\n",
    "print(response)"
   ]
  },
  {
   "cell_type": "code",
   "execution_count": 24,
   "metadata": {},
   "outputs": [
    {
     "name": "stdout",
     "output_type": "stream",
     "text": [
      "The following credit cards have 0 annual fee:\n",
      "\n",
      "* Scotiabank® Scene+™ Visa* Card (for students)\n",
      "* Scotia Momentum® No-Fee Visa* Card (for students)\n",
      "* Scotiabank American Express® Card (for students)\n",
      "* Scotia Momentum® Mastercard®* credit card\n"
     ]
    }
   ],
   "source": [
    "response = chat_engine.chat('Which credit cards have 0 annual fee?')\n",
    "print(response)"
   ]
  },
  {
   "cell_type": "code",
   "execution_count": 25,
   "metadata": {},
   "outputs": [
    {
     "name": "stdout",
     "output_type": "stream",
     "text": [
      "If you're looking to get a lot of Scene+ points, I recommend the Scotiabank Gold American Express® Card. With this card, you can earn up to $650* in value in the first 12 months, including up to 40,000 bonus Scene+ points. You'll also earn 6 Scene+ points on every $1 CAD you spend in Canada at Sobeys, Safeway, FreshCo, Foodland and more.\n"
     ]
    }
   ],
   "source": [
    "response = chat_engine.chat('Okey, and what credit card do you recommend me if I would like to get a lot of Scene+ points?')\n",
    "print(response)"
   ]
  },
  {
   "cell_type": "code",
   "execution_count": 26,
   "metadata": {},
   "outputs": [
    {
     "name": "stdout",
     "output_type": "stream",
     "text": [
      "If this is your first time getting a credit card, I recommend the Scotia Momentum® No-Fee Visa* Card (for students). This card has no annual fee and offers a 0% introductory interest rate on balance transfers for the first 6 months (22.99% after that). You'll also earn 5% cash back on all purchases for the first 3 months (up to $2,000 in total purchases). This card is a great way to build your credit and start earning rewards.\n"
     ]
    }
   ],
   "source": [
    "response = chat_engine.chat('What credit card would you recommend to me if this is the first time I am acquiring one?')\n",
    "print(response)"
   ]
  },
  {
   "cell_type": "code",
   "execution_count": 27,
   "metadata": {},
   "outputs": [
    {
     "name": "stdout",
     "output_type": "stream",
     "text": [
      "Sure. Here are a few other credit cards that may be suitable for you if you're a student:\n",
      "\n",
      "* **Scotiabank Value® Visa* Card (for students)**: This card has a low annual fee of $29 and offers a 0% introductory interest rate on balance transfers for the first 10 months (12.99% and then after that 13.99% starting August 1, 2024). You'll also earn 2 Scene+ points on every $1 you spend at Sobeys, Safeway, Foodland & Participating Co-ops, FreshCo and more.\n",
      "* **Scotia Momentum® Visa* Card (for students)**: This card has an annual fee of $39 and offers a 2.99% introductory interest rate on balance transfers for the first 6 months (22.99% after that). You'll also earn 10% cash back on all purchases for the first 3 months (up to $2,000 in total purchases).\n",
      "* **Scotiabank American Express® Card (for students)**: This card has no annual fee and offers up to 7,500 bonus Scene+ points within your first 3 months (that's up to $75 towards travel). You'll also earn 3 Scene+ points on every $1 you spend at Sobeys, Safeway, FreshCo, Foodland and more.\n"
     ]
    }
   ],
   "source": [
    "response = chat_engine.chat('Can you show me other suitable options?')\n",
    "print(response)"
   ]
  },
  {
   "cell_type": "code",
   "execution_count": 28,
   "metadata": {},
   "outputs": [
    {
     "name": "stdout",
     "output_type": "stream",
     "text": [
      "If you need to make a balance transfer, I recommend the **Scotiabank Value® Visa* Card (for students)**. This card has a 0% introductory interest rate on balance transfers for the first 10 months (12.99% and then after that 13.99% starting August 1, 2024). This means that you can transfer your balance from another credit card to this card and pay it off interest-free for 10 months. This can save you a lot of money on interest charges.\n"
     ]
    }
   ],
   "source": [
    "response = chat_engine.chat('What of those you suggest me to acquire if I need to make a balance transfer?')\n",
    "print(response)"
   ]
  },
  {
   "cell_type": "code",
   "execution_count": 29,
   "metadata": {},
   "outputs": [
    {
     "name": "stdout",
     "output_type": "stream",
     "text": [
      "If you travel frequently to the United States for shopping, I recommend the **Scotiabank® U.S. Dollar Visa* Card**. This card has no currency conversion fees, so you won't have to pay extra when you make purchases in U.S. dollars. The card also has a competitive interest rate, so you can save money on interest charges if you carry a balance.\n"
     ]
    }
   ],
   "source": [
    "response = chat_engine.chat('I travel frequently to United States for shopping. Which credit card do you recommend to me?')\n",
    "print(response)"
   ]
  },
  {
   "cell_type": "code",
   "execution_count": 30,
   "metadata": {},
   "outputs": [
    {
     "name": "stdout",
     "output_type": "stream",
     "text": [
      "If you're looking to get a lot of cashback, I recommend the **Scotia Momentum® Visa* Card**. This card offers 10% cash back on all purchases for the first 3 months (up to $2,000 in total purchases). After that, you'll earn 1% cash back on all eligible gas station, grocery store, drug store purchases and recurring payments.\n"
     ]
    }
   ],
   "source": [
    "response = chat_engine.chat('What credit card could be useful for getting a lot of cashback?')\n",
    "print(response)"
   ]
  },
  {
   "cell_type": "code",
   "execution_count": 31,
   "metadata": {},
   "outputs": [
    {
     "name": "stdout",
     "output_type": "stream",
     "text": [
      "If you carry a high balance on your credit card, I recommend the **Scotiabank Value® Visa* Card**. This card has a low interest rate of 12.99% on purchases and 12.99% on cash advances. This means that you'll pay less interest on your balance than you would with other cards.\n"
     ]
    }
   ],
   "source": [
    "response = chat_engine.chat('Which credit card is best for me if I carry with high balances?')\n",
    "print(response)"
   ]
  },
  {
   "cell_type": "code",
   "execution_count": 32,
   "metadata": {},
   "outputs": [
    {
     "name": "stdout",
     "output_type": "stream",
     "text": [
      "Yes, there is one other card with an equal interest rate:\n",
      "\n",
      "* **Scotia Momentum® Mastercard®* credit card: This card also has an interest rate of 12.99% on purchases and 12.99% on cash advances.\n"
     ]
    }
   ],
   "source": [
    "response = chat_engine.chat('There is another card with equal or lower interest rates?')\n",
    "print(response)"
   ]
  },
  {
   "cell_type": "code",
   "execution_count": 33,
   "metadata": {},
   "outputs": [
    {
     "name": "stdout",
     "output_type": "stream",
     "text": [
      "**Scotiabank Platinum American Express® Card**\n",
      "\n",
      "* Earn up to $2,100* in value in the first 14 months, including up to 60,0004 bonus Scene+ points.\n",
      "* Earn 2X the Scene+ points1 for every $1 you spend.\n",
      "* Annual fee: $399\n",
      "* Interest rates: 9.99% purchases / 9.99% cash advances\n"
     ]
    }
   ],
   "source": [
    "response = chat_engine.chat('Please provide me the information about the Platinum card')\n",
    "print(response)"
   ]
  },
  {
   "cell_type": "code",
   "execution_count": 41,
   "metadata": {},
   "outputs": [],
   "source": [
    "chat_engine.reset()"
   ]
  }
 ],
 "metadata": {
  "kernelspec": {
   "display_name": ".venv",
   "language": "python",
   "name": "python3"
  },
  "language_info": {
   "codemirror_mode": {
    "name": "ipython",
    "version": 3
   },
   "file_extension": ".py",
   "mimetype": "text/x-python",
   "name": "python",
   "nbconvert_exporter": "python",
   "pygments_lexer": "ipython3",
   "version": "3.12.3"
  }
 },
 "nbformat": 4,
 "nbformat_minor": 2
}
